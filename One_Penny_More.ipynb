{
 "cells": [
  {
   "cell_type": "code",
   "execution_count": 1,
   "id": "576328a1-7ce7-4bec-9f9b-538b8ea8495d",
   "metadata": {},
   "outputs": [],
   "source": [
    "import pandas as pd\n",
    "import matplotlib.pyplot as plt\n",
    "plt.rcParams['figure.figsize'] = [15, 9]"
   ]
  },
  {
   "cell_type": "code",
   "execution_count": 3,
   "id": "f6674e68-40d4-414c-a406-fda283a35668",
   "metadata": {},
   "outputs": [
    {
     "data": {
      "text/plain": [
       "count            18102\n",
       "unique              14\n",
       "top       Bitcoin Cash\n",
       "freq              1360\n",
       "Name: Asset_Name, dtype: object"
      ]
     },
     "execution_count": 3,
     "metadata": {},
     "output_type": "execute_result"
    }
   ],
   "source": [
    "df = pd.read_csv('data/crypto.csv')\n",
    "df['Asset_Name'].describe()"
   ]
  },
  {
   "cell_type": "code",
   "execution_count": null,
   "id": "7b47a1ae-6afc-4392-b985-aea43008ff6d",
   "metadata": {},
   "outputs": [],
   "source": [
    " Q1. If you bought a single Bitcoin on the 4th January 2018, how many days after would your investment:\n",
    "      a) Been worth more than you paid for?\n",
    "      b) Been worth less than you paid for?"
   ]
  },
  {
   "cell_type": "code",
   "execution_count": 51,
   "id": "5b09d574-4086-4979-afc3-c0a1adb1fccd",
   "metadata": {},
   "outputs": [
    {
     "data": {
      "text/html": [
       "<div>\n",
       "<style scoped>\n",
       "    .dataframe tbody tr th:only-of-type {\n",
       "        vertical-align: middle;\n",
       "    }\n",
       "\n",
       "    .dataframe tbody tr th {\n",
       "        vertical-align: top;\n",
       "    }\n",
       "\n",
       "    .dataframe thead th {\n",
       "        text-align: right;\n",
       "    }\n",
       "</style>\n",
       "<table border=\"1\" class=\"dataframe\">\n",
       "  <thead>\n",
       "    <tr style=\"text-align: right;\">\n",
       "      <th></th>\n",
       "      <th>Asset_Name</th>\n",
       "      <th>timestamp</th>\n",
       "      <th>Close</th>\n",
       "    </tr>\n",
       "  </thead>\n",
       "  <tbody>\n",
       "    <tr>\n",
       "      <th>2724</th>\n",
       "      <td>Bitcoin</td>\n",
       "      <td>2018-01-05</td>\n",
       "      <td>15158.4920</td>\n",
       "    </tr>\n",
       "    <tr>\n",
       "      <th>2725</th>\n",
       "      <td>Bitcoin</td>\n",
       "      <td>2018-01-06</td>\n",
       "      <td>16935.5560</td>\n",
       "    </tr>\n",
       "    <tr>\n",
       "      <th>2726</th>\n",
       "      <td>Bitcoin</td>\n",
       "      <td>2018-01-07</td>\n",
       "      <td>17118.7640</td>\n",
       "    </tr>\n",
       "    <tr>\n",
       "      <th>2727</th>\n",
       "      <td>Bitcoin</td>\n",
       "      <td>2018-01-08</td>\n",
       "      <td>16174.2625</td>\n",
       "    </tr>\n",
       "    <tr>\n",
       "      <th>3760</th>\n",
       "      <td>Bitcoin</td>\n",
       "      <td>2020-11-06</td>\n",
       "      <td>15623.8075</td>\n",
       "    </tr>\n",
       "    <tr>\n",
       "      <th>...</th>\n",
       "      <td>...</td>\n",
       "      <td>...</td>\n",
       "      <td>...</td>\n",
       "    </tr>\n",
       "    <tr>\n",
       "      <th>4075</th>\n",
       "      <td>Bitcoin</td>\n",
       "      <td>2021-09-17</td>\n",
       "      <td>47769.5096</td>\n",
       "    </tr>\n",
       "    <tr>\n",
       "      <th>4076</th>\n",
       "      <td>Bitcoin</td>\n",
       "      <td>2021-09-18</td>\n",
       "      <td>47333.4914</td>\n",
       "    </tr>\n",
       "    <tr>\n",
       "      <th>4077</th>\n",
       "      <td>Bitcoin</td>\n",
       "      <td>2021-09-19</td>\n",
       "      <td>48295.5087</td>\n",
       "    </tr>\n",
       "    <tr>\n",
       "      <th>4078</th>\n",
       "      <td>Bitcoin</td>\n",
       "      <td>2021-09-20</td>\n",
       "      <td>47272.4743</td>\n",
       "    </tr>\n",
       "    <tr>\n",
       "      <th>4079</th>\n",
       "      <td>Bitcoin</td>\n",
       "      <td>2021-09-21</td>\n",
       "      <td>43002.5050</td>\n",
       "    </tr>\n",
       "  </tbody>\n",
       "</table>\n",
       "<p>323 rows × 3 columns</p>\n",
       "</div>"
      ],
      "text/plain": [
       "     Asset_Name   timestamp       Close\n",
       "2724    Bitcoin  2018-01-05  15158.4920\n",
       "2725    Bitcoin  2018-01-06  16935.5560\n",
       "2726    Bitcoin  2018-01-07  17118.7640\n",
       "2727    Bitcoin  2018-01-08  16174.2625\n",
       "3760    Bitcoin  2020-11-06  15623.8075\n",
       "...         ...         ...         ...\n",
       "4075    Bitcoin  2021-09-17  47769.5096\n",
       "4076    Bitcoin  2021-09-18  47333.4914\n",
       "4077    Bitcoin  2021-09-19  48295.5087\n",
       "4078    Bitcoin  2021-09-20  47272.4743\n",
       "4079    Bitcoin  2021-09-21  43002.5050\n",
       "\n",
       "[323 rows x 3 columns]"
      ]
     },
     "execution_count": 51,
     "metadata": {},
     "output_type": "execute_result"
    }
   ],
   "source": [
    "bitcoin = df[ df[\"Asset_Name\"] == \"Bitcoin\"].copy()\n",
    "#bitcoin\n",
    "comparison = bitcoin[bitcoin[\"timestamp\"] == \"2018-01-04\"]\n",
    "comparison_price = comparison.iloc[0]['Close']\n",
    "comparison_date = comparison.iloc[0]['timestamp']\n",
    "\n",
    "more = bitcoin[(bitcoin['Close']>comparison_price) & (bitcoin['timestamp']>comparison_date)]\n",
    "more\n",
    "\n",
    "#comparison_price = comparison['Close']\n",
    "#print(comparison_price)\n",
    "#[ bitcoin['Close']>comparison_price]\n",
    "#more"
   ]
  },
  {
   "cell_type": "code",
   "execution_count": null,
   "id": "92bfefaa-6d9d-4c07-b915-22e03130884d",
   "metadata": {},
   "outputs": [],
   "source": []
  }
 ],
 "metadata": {
  "kernelspec": {
   "display_name": "Python 3 (ipykernel)",
   "language": "python",
   "name": "python3"
  },
  "language_info": {
   "codemirror_mode": {
    "name": "ipython",
    "version": 3
   },
   "file_extension": ".py",
   "mimetype": "text/x-python",
   "name": "python",
   "nbconvert_exporter": "python",
   "pygments_lexer": "ipython3",
   "version": "3.11.4"
  }
 },
 "nbformat": 4,
 "nbformat_minor": 5
}
